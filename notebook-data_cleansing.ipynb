{
 "cells": [
  {
   "cell_type": "code",
   "execution_count": 41,
   "id": "initial_id",
   "metadata": {
    "collapsed": true,
    "ExecuteTime": {
     "end_time": "2024-04-28T20:19:40.167140Z",
     "start_time": "2024-04-28T20:19:40.164677Z"
    }
   },
   "outputs": [],
   "source": [
    "import sqlalchemy as db\n",
    "import sqlite3\n",
    "import pandas as pd\n",
    "from datetime import datetime \n",
    "import numpy as np\n",
    "import ast"
   ]
  },
  {
   "cell_type": "code",
   "outputs": [],
   "source": [
    "engine = db.create_engine('sqlite:///cademycode.db')\n",
    "connection = engine.connect()"
   ],
   "metadata": {
    "collapsed": false,
    "ExecuteTime": {
     "end_time": "2024-04-28T20:19:40.360912Z",
     "start_time": "2024-04-28T20:19:40.358500Z"
    }
   },
   "id": "3fd138c0fadace6",
   "execution_count": 42
  },
  {
   "cell_type": "code",
   "outputs": [
    {
     "name": "stdout",
     "output_type": "stream",
     "text": [
      "schema: main\n",
      "cademycode_courses, Column: {'name': 'career_path_id', 'type': BIGINT(), 'nullable': True, 'default': None, 'primary_key': 0}\n",
      "cademycode_courses, Column: {'name': 'career_path_name', 'type': TEXT(), 'nullable': True, 'default': None, 'primary_key': 0}\n",
      "cademycode_courses, Column: {'name': 'hours_to_complete', 'type': BIGINT(), 'nullable': True, 'default': None, 'primary_key': 0}\n",
      "cademycode_student_jobs, Column: {'name': 'job_id', 'type': BIGINT(), 'nullable': True, 'default': None, 'primary_key': 0}\n",
      "cademycode_student_jobs, Column: {'name': 'job_category', 'type': TEXT(), 'nullable': True, 'default': None, 'primary_key': 0}\n",
      "cademycode_student_jobs, Column: {'name': 'avg_salary', 'type': BIGINT(), 'nullable': True, 'default': None, 'primary_key': 0}\n",
      "cademycode_students, Column: {'name': 'uuid', 'type': INTEGER(), 'nullable': True, 'default': None, 'primary_key': 0}\n",
      "cademycode_students, Column: {'name': 'name', 'type': VARCHAR(), 'nullable': True, 'default': None, 'primary_key': 0}\n",
      "cademycode_students, Column: {'name': 'dob', 'type': VARCHAR(), 'nullable': True, 'default': None, 'primary_key': 0}\n",
      "cademycode_students, Column: {'name': 'sex', 'type': TEXT(), 'nullable': True, 'default': None, 'primary_key': 0}\n",
      "cademycode_students, Column: {'name': 'contact_info', 'type': JSON(), 'nullable': True, 'default': None, 'primary_key': 0}\n",
      "cademycode_students, Column: {'name': 'job_id', 'type': VARCHAR(), 'nullable': True, 'default': None, 'primary_key': 0}\n",
      "cademycode_students, Column: {'name': 'num_course_taken', 'type': VARCHAR(), 'nullable': True, 'default': None, 'primary_key': 0}\n",
      "cademycode_students, Column: {'name': 'current_career_path_id', 'type': VARCHAR(), 'nullable': True, 'default': None, 'primary_key': 0}\n",
      "cademycode_students, Column: {'name': 'time_spent_hrs', 'type': VARCHAR(), 'nullable': True, 'default': None, 'primary_key': 0}\n"
     ]
    }
   ],
   "source": [
    "inspector = db.inspect(engine)\n",
    "schemas = inspector.get_schema_names()\n",
    "\n",
    "for schema in schemas:\n",
    "    print(\"schema: %s\" % schema)\n",
    "    for table_name in inspector.get_table_names(schema=schema):\n",
    "        for column in inspector.get_columns(table_name, schema=schema):\n",
    "            print(f\"{table_name}, Column: %s\" % column)"
   ],
   "metadata": {
    "collapsed": false,
    "ExecuteTime": {
     "end_time": "2024-04-28T20:19:40.515562Z",
     "start_time": "2024-04-28T20:19:40.511910Z"
    }
   },
   "id": "6ea9c28543be1d57",
   "execution_count": 43
  },
  {
   "cell_type": "markdown",
   "source": [
    "IMPORTING DATA"
   ],
   "metadata": {
    "collapsed": false
   },
   "id": "9c92bee6053fc22d"
  },
  {
   "cell_type": "code",
   "outputs": [],
   "source": [
    "courses_query = db.text(\"select * from cademycode_courses\")\n",
    "courses = connection.execute(courses_query).fetchall()\n",
    "\n",
    "courses_df = pd.DataFrame(courses)"
   ],
   "metadata": {
    "collapsed": false,
    "ExecuteTime": {
     "end_time": "2024-04-28T20:19:40.815091Z",
     "start_time": "2024-04-28T20:19:40.812194Z"
    }
   },
   "id": "64c55f777266d4a7",
   "execution_count": 44
  },
  {
   "cell_type": "code",
   "outputs": [],
   "source": [
    "jobs_query = db.text(\"select * from cademycode_student_jobs\")\n",
    "jobs = connection.execute(jobs_query).fetchall()\n",
    "\n",
    "jobs_df = pd.DataFrame(jobs)"
   ],
   "metadata": {
    "collapsed": false,
    "ExecuteTime": {
     "end_time": "2024-04-28T20:19:40.986355Z",
     "start_time": "2024-04-28T20:19:40.983647Z"
    }
   },
   "id": "70268122cc2f2c2b",
   "execution_count": 45
  },
  {
   "cell_type": "code",
   "outputs": [],
   "source": [
    "students_query = db.text(\"select * from cademycode_students\")\n",
    "students = connection.execute(students_query).fetchall()\n",
    "\n",
    "students_df = pd.DataFrame(students)"
   ],
   "metadata": {
    "collapsed": false,
    "ExecuteTime": {
     "end_time": "2024-04-28T20:19:41.148585Z",
     "start_time": "2024-04-28T20:19:41.134895Z"
    }
   },
   "id": "d239b6b07f5a3132",
   "execution_count": 46
  },
  {
   "cell_type": "markdown",
   "source": [
    "STARTING DATA TIDYING AND WRANGLING"
   ],
   "metadata": {
    "collapsed": false
   },
   "id": "a94619f62718e285"
  },
  {
   "cell_type": "code",
   "outputs": [
    {
     "name": "stdout",
     "output_type": "stream",
     "text": [
      "<class 'pandas.core.frame.DataFrame'>\n",
      "RangeIndex: 13 entries, 0 to 12\n",
      "Data columns (total 3 columns):\n",
      " #   Column        Non-Null Count  Dtype \n",
      "---  ------        --------------  ----- \n",
      " 0   job_id        13 non-null     int64 \n",
      " 1   job_category  13 non-null     object\n",
      " 2   avg_salary    13 non-null     int64 \n",
      "dtypes: int64(2), object(1)\n",
      "memory usage: 444.0+ bytes\n"
     ]
    }
   ],
   "source": [
    "jobs_df.info()"
   ],
   "metadata": {
    "collapsed": false,
    "ExecuteTime": {
     "end_time": "2024-04-28T20:19:41.432968Z",
     "start_time": "2024-04-28T20:19:41.428704Z"
    }
   },
   "id": "f8ff67344f6e49",
   "execution_count": 47
  },
  {
   "cell_type": "code",
   "outputs": [
    {
     "data": {
      "text/plain": "job_id\n3    2\n4    2\n5    2\n1    1\n2    1\n6    1\n7    1\n8    1\n9    1\n0    1\nName: count, dtype: int64"
     },
     "execution_count": 48,
     "metadata": {},
     "output_type": "execute_result"
    }
   ],
   "source": [
    "jobs_df.job_id.value_counts()"
   ],
   "metadata": {
    "collapsed": false,
    "ExecuteTime": {
     "end_time": "2024-04-28T20:19:41.605720Z",
     "start_time": "2024-04-28T20:19:41.603042Z"
    }
   },
   "id": "3adba2e23e4708cc",
   "execution_count": 48
  },
  {
   "cell_type": "markdown",
   "source": [
    "DUPLICATES PRESENT, DROPPING"
   ],
   "metadata": {
    "collapsed": false
   },
   "id": "bf72f448acfbc592"
  },
  {
   "cell_type": "code",
   "outputs": [],
   "source": [
    "jobs_df.drop_duplicates(inplace=True)"
   ],
   "metadata": {
    "collapsed": false,
    "ExecuteTime": {
     "end_time": "2024-04-28T20:19:41.886992Z",
     "start_time": "2024-04-28T20:19:41.884544Z"
    }
   },
   "id": "e78145a9a8fa3bed",
   "execution_count": 49
  },
  {
   "cell_type": "code",
   "outputs": [
    {
     "name": "stdout",
     "output_type": "stream",
     "text": [
      "<class 'pandas.core.frame.DataFrame'>\n",
      "Index: 10 entries, 0 to 9\n",
      "Data columns (total 3 columns):\n",
      " #   Column        Non-Null Count  Dtype \n",
      "---  ------        --------------  ----- \n",
      " 0   job_id        10 non-null     int64 \n",
      " 1   job_category  10 non-null     object\n",
      " 2   avg_salary    10 non-null     int64 \n",
      "dtypes: int64(2), object(1)\n",
      "memory usage: 320.0+ bytes\n"
     ]
    }
   ],
   "source": [
    "jobs_df.info()"
   ],
   "metadata": {
    "collapsed": false,
    "ExecuteTime": {
     "end_time": "2024-04-28T20:19:42.028768Z",
     "start_time": "2024-04-28T20:19:42.025279Z"
    }
   },
   "id": "57bea02480ae34de",
   "execution_count": 50
  },
  {
   "cell_type": "markdown",
   "source": [
    "ALL GOOD TO GO FOR JOBS"
   ],
   "metadata": {
    "collapsed": false
   },
   "id": "682c8e1e9d76257c"
  },
  {
   "cell_type": "code",
   "outputs": [
    {
     "name": "stdout",
     "output_type": "stream",
     "text": [
      "<class 'pandas.core.frame.DataFrame'>\n",
      "RangeIndex: 10 entries, 0 to 9\n",
      "Data columns (total 3 columns):\n",
      " #   Column             Non-Null Count  Dtype \n",
      "---  ------             --------------  ----- \n",
      " 0   career_path_id     10 non-null     int64 \n",
      " 1   career_path_name   10 non-null     object\n",
      " 2   hours_to_complete  10 non-null     int64 \n",
      "dtypes: int64(2), object(1)\n",
      "memory usage: 372.0+ bytes\n"
     ]
    }
   ],
   "source": [
    "courses_df.info()"
   ],
   "metadata": {
    "collapsed": false,
    "ExecuteTime": {
     "end_time": "2024-04-28T20:19:42.353879Z",
     "start_time": "2024-04-28T20:19:42.350444Z"
    }
   },
   "id": "4c93bfff6e81c9be",
   "execution_count": 51
  },
  {
   "cell_type": "code",
   "outputs": [
    {
     "data": {
      "text/plain": "career_path_id\n1     1\n2     1\n3     1\n4     1\n5     1\n6     1\n7     1\n8     1\n9     1\n10    1\nName: count, dtype: int64"
     },
     "execution_count": 52,
     "metadata": {},
     "output_type": "execute_result"
    }
   ],
   "source": [
    "courses_df.career_path_id.value_counts()"
   ],
   "metadata": {
    "collapsed": false,
    "ExecuteTime": {
     "end_time": "2024-04-28T20:19:42.529496Z",
     "start_time": "2024-04-28T20:19:42.526714Z"
    }
   },
   "id": "a52abf9b7375d6c5",
   "execution_count": 52
  },
  {
   "cell_type": "markdown",
   "source": [
    "ALL GOOD TO GO FOR COURSES"
   ],
   "metadata": {
    "collapsed": false
   },
   "id": "a1875c59c9ae4042"
  },
  {
   "cell_type": "code",
   "outputs": [
    {
     "name": "stdout",
     "output_type": "stream",
     "text": [
      "<class 'pandas.core.frame.DataFrame'>\n",
      "RangeIndex: 5000 entries, 0 to 4999\n",
      "Data columns (total 9 columns):\n",
      " #   Column                  Non-Null Count  Dtype \n",
      "---  ------                  --------------  ----- \n",
      " 0   uuid                    5000 non-null   int64 \n",
      " 1   name                    5000 non-null   object\n",
      " 2   dob                     5000 non-null   object\n",
      " 3   sex                     5000 non-null   object\n",
      " 4   contact_info            5000 non-null   object\n",
      " 5   job_id                  4995 non-null   object\n",
      " 6   num_course_taken        4749 non-null   object\n",
      " 7   current_career_path_id  4529 non-null   object\n",
      " 8   time_spent_hrs          4529 non-null   object\n",
      "dtypes: int64(1), object(8)\n",
      "memory usage: 351.7+ KB\n"
     ]
    }
   ],
   "source": [
    "students_df.info()"
   ],
   "metadata": {
    "collapsed": false,
    "ExecuteTime": {
     "end_time": "2024-04-28T20:19:42.811018Z",
     "start_time": "2024-04-28T20:19:42.806289Z"
    }
   },
   "id": "aa7eed3bc4510c3f",
   "execution_count": 53
  },
  {
   "cell_type": "markdown",
   "source": [
    "NULL VALUES IN FOLLOWING COLUMNS: \n",
    "- job_id (5 null)\n",
    "- num_course_taken (251 null)\n",
    "- current_career_path_id (471 null)\n",
    "- time_spent_hrs (471 null)\n",
    "\n",
    "DATA TYPE CHANGES:\n",
    "- dob (object -> date)\n",
    "- job_id (object -> float) \n",
    "- num_courses_taken (object -> float)\n",
    "- current_career_path_id (object -> float)\n",
    "- time_hours_spent (object -> float)"
   ],
   "metadata": {
    "collapsed": false
   },
   "id": "a2f1e6799238a81a"
  },
  {
   "cell_type": "code",
   "outputs": [
    {
     "data": {
      "text/plain": "sex\nM    1995\nF    1990\nN    1015\nName: count, dtype: int64"
     },
     "execution_count": 54,
     "metadata": {},
     "output_type": "execute_result"
    }
   ],
   "source": [
    "students_df.sex.value_counts()"
   ],
   "metadata": {
    "collapsed": false,
    "ExecuteTime": {
     "end_time": "2024-04-28T20:19:43.097196Z",
     "start_time": "2024-04-28T20:19:43.094208Z"
    }
   },
   "id": "796326f0a41b1bc4",
   "execution_count": 54
  },
  {
   "cell_type": "code",
   "outputs": [],
   "source": [
    "now = datetime.now()\n",
    "students_df['dob'] = pd.to_datetime(students_df['dob'])\n",
    "students_df['age'] = [(now.year - dob.year) for dob in students_df['dob']]\n",
    "students_df['age_group'] = np.int64((students_df['age']/10)) * 10"
   ],
   "metadata": {
    "collapsed": false,
    "ExecuteTime": {
     "end_time": "2024-04-28T20:19:43.249058Z",
     "start_time": "2024-04-28T20:19:43.242197Z"
    }
   },
   "id": "bf0051266fc07fbc",
   "execution_count": 55
  },
  {
   "cell_type": "code",
   "outputs": [
    {
     "data": {
      "text/plain": "0       81\n1       33\n2       35\n3       36\n4       61\n        ..\n4995    57\n4996    60\n4997    20\n4998    81\n4999    30\nName: age, Length: 5000, dtype: int64"
     },
     "execution_count": 56,
     "metadata": {},
     "output_type": "execute_result"
    }
   ],
   "source": [
    "students_df['age']"
   ],
   "metadata": {
    "collapsed": false,
    "ExecuteTime": {
     "end_time": "2024-04-28T20:19:43.400822Z",
     "start_time": "2024-04-28T20:19:43.397974Z"
    }
   },
   "id": "da158cdee841203",
   "execution_count": 56
  },
  {
   "cell_type": "code",
   "outputs": [
    {
     "data": {
      "text/plain": "0       80\n1       30\n2       30\n3       30\n4       60\n        ..\n4995    50\n4996    60\n4997    20\n4998    80\n4999    30\nName: age_group, Length: 5000, dtype: int64"
     },
     "execution_count": 57,
     "metadata": {},
     "output_type": "execute_result"
    }
   ],
   "source": [
    "students_df['age_group']"
   ],
   "metadata": {
    "collapsed": false,
    "ExecuteTime": {
     "end_time": "2024-04-28T20:19:43.570209Z",
     "start_time": "2024-04-28T20:19:43.567480Z"
    }
   },
   "id": "8995d67d773fac05",
   "execution_count": 57
  },
  {
   "cell_type": "code",
   "outputs": [
    {
     "data": {
      "text/plain": "str"
     },
     "execution_count": 58,
     "metadata": {},
     "output_type": "execute_result"
    }
   ],
   "source": [
    "type(students_df['contact_info'][0])"
   ],
   "metadata": {
    "collapsed": false,
    "ExecuteTime": {
     "end_time": "2024-04-28T20:19:43.719791Z",
     "start_time": "2024-04-28T20:19:43.716850Z"
    }
   },
   "id": "e8084ccb4456c97",
   "execution_count": 58
  },
  {
   "cell_type": "code",
   "outputs": [],
   "source": [
    "# contact info str not json\n",
    "students_df['contact_info'] = students_df['contact_info'].apply(lambda x: ast.literal_eval(x))\n",
    "explode_contact_info = pd.json_normalize(students_df['contact_info'])\n",
    "students_df = pd.concat([students_df.drop('contact_info', axis=1), explode_contact_info], axis=1 )"
   ],
   "metadata": {
    "collapsed": false,
    "ExecuteTime": {
     "end_time": "2024-04-28T20:19:43.869893Z",
     "start_time": "2024-04-28T20:19:43.815990Z"
    }
   },
   "id": "999ec015ec217ef3",
   "execution_count": 59
  },
  {
   "cell_type": "code",
   "outputs": [
    {
     "data": {
      "text/plain": "   uuid             name        dob sex job_id num_course_taken  \\\n0     1  Annabelle Avery 1943-07-03   F    7.0              6.0   \n1     2      Micah Rubio 1991-02-07   M    7.0              5.0   \n2     3       Hosea Dale 1989-12-07   M    7.0              8.0   \n3     4     Mariann Kirk 1988-07-31   F    6.0              7.0   \n4     5  Lucio Alexander 1963-08-31   M    7.0             14.0   \n\n  current_career_path_id time_spent_hrs  age  age_group  \\\n0                    1.0           4.99   81         80   \n1                    8.0            4.4   33         30   \n2                    8.0           6.74   35         30   \n3                    9.0          12.31   36         30   \n4                    3.0           5.64   61         60   \n\n                            email                   street              city  \\\n0  annabelle_avery9376@woohoo.com         303 N Timber Key          Irondale   \n1             rubio6772@hmail.com        767 Crescent Fair            Shoals   \n2     hosea_dale8084@coldmail.com           P.O. Box 41269   St. Bonaventure   \n3              kirk4005@hmail.com  517 SE Wintergreen Isle              Lane   \n4         alexander9810@hmail.com          18 Cinder Cliff    Doyles borough   \n\n           state zipcode  \n0      Wisconsin   84736  \n1        Indiana   37439  \n2       Virginia   83637  \n3       Arkansas   82242  \n4   Rhode Island   73737  ",
      "text/html": "<div>\n<style scoped>\n    .dataframe tbody tr th:only-of-type {\n        vertical-align: middle;\n    }\n\n    .dataframe tbody tr th {\n        vertical-align: top;\n    }\n\n    .dataframe thead th {\n        text-align: right;\n    }\n</style>\n<table border=\"1\" class=\"dataframe\">\n  <thead>\n    <tr style=\"text-align: right;\">\n      <th></th>\n      <th>uuid</th>\n      <th>name</th>\n      <th>dob</th>\n      <th>sex</th>\n      <th>job_id</th>\n      <th>num_course_taken</th>\n      <th>current_career_path_id</th>\n      <th>time_spent_hrs</th>\n      <th>age</th>\n      <th>age_group</th>\n      <th>email</th>\n      <th>street</th>\n      <th>city</th>\n      <th>state</th>\n      <th>zipcode</th>\n    </tr>\n  </thead>\n  <tbody>\n    <tr>\n      <th>0</th>\n      <td>1</td>\n      <td>Annabelle Avery</td>\n      <td>1943-07-03</td>\n      <td>F</td>\n      <td>7.0</td>\n      <td>6.0</td>\n      <td>1.0</td>\n      <td>4.99</td>\n      <td>81</td>\n      <td>80</td>\n      <td>annabelle_avery9376@woohoo.com</td>\n      <td>303 N Timber Key</td>\n      <td>Irondale</td>\n      <td>Wisconsin</td>\n      <td>84736</td>\n    </tr>\n    <tr>\n      <th>1</th>\n      <td>2</td>\n      <td>Micah Rubio</td>\n      <td>1991-02-07</td>\n      <td>M</td>\n      <td>7.0</td>\n      <td>5.0</td>\n      <td>8.0</td>\n      <td>4.4</td>\n      <td>33</td>\n      <td>30</td>\n      <td>rubio6772@hmail.com</td>\n      <td>767 Crescent Fair</td>\n      <td>Shoals</td>\n      <td>Indiana</td>\n      <td>37439</td>\n    </tr>\n    <tr>\n      <th>2</th>\n      <td>3</td>\n      <td>Hosea Dale</td>\n      <td>1989-12-07</td>\n      <td>M</td>\n      <td>7.0</td>\n      <td>8.0</td>\n      <td>8.0</td>\n      <td>6.74</td>\n      <td>35</td>\n      <td>30</td>\n      <td>hosea_dale8084@coldmail.com</td>\n      <td>P.O. Box 41269</td>\n      <td>St. Bonaventure</td>\n      <td>Virginia</td>\n      <td>83637</td>\n    </tr>\n    <tr>\n      <th>3</th>\n      <td>4</td>\n      <td>Mariann Kirk</td>\n      <td>1988-07-31</td>\n      <td>F</td>\n      <td>6.0</td>\n      <td>7.0</td>\n      <td>9.0</td>\n      <td>12.31</td>\n      <td>36</td>\n      <td>30</td>\n      <td>kirk4005@hmail.com</td>\n      <td>517 SE Wintergreen Isle</td>\n      <td>Lane</td>\n      <td>Arkansas</td>\n      <td>82242</td>\n    </tr>\n    <tr>\n      <th>4</th>\n      <td>5</td>\n      <td>Lucio Alexander</td>\n      <td>1963-08-31</td>\n      <td>M</td>\n      <td>7.0</td>\n      <td>14.0</td>\n      <td>3.0</td>\n      <td>5.64</td>\n      <td>61</td>\n      <td>60</td>\n      <td>alexander9810@hmail.com</td>\n      <td>18 Cinder Cliff</td>\n      <td>Doyles borough</td>\n      <td>Rhode Island</td>\n      <td>73737</td>\n    </tr>\n  </tbody>\n</table>\n</div>"
     },
     "execution_count": 60,
     "metadata": {},
     "output_type": "execute_result"
    }
   ],
   "source": [
    "split_address = students_df.mailing_address.str.split(',', expand=True)\n",
    "split_address.columns = ['street', 'city', 'state', 'zipcode']\n",
    "students_df = pd.concat([students_df.drop('mailing_address', axis=1), split_address], axis=1)\n",
    "students_df.head()"
   ],
   "metadata": {
    "collapsed": false,
    "ExecuteTime": {
     "end_time": "2024-04-28T20:19:43.982878Z",
     "start_time": "2024-04-28T20:19:43.972456Z"
    }
   },
   "id": "ad228353a3c0ff7e",
   "execution_count": 60
  },
  {
   "cell_type": "code",
   "outputs": [
    {
     "name": "stdout",
     "output_type": "stream",
     "text": [
      "<class 'pandas.core.frame.DataFrame'>\n",
      "RangeIndex: 5000 entries, 0 to 4999\n",
      "Data columns (total 15 columns):\n",
      " #   Column                  Non-Null Count  Dtype         \n",
      "---  ------                  --------------  -----         \n",
      " 0   uuid                    5000 non-null   int64         \n",
      " 1   name                    5000 non-null   object        \n",
      " 2   dob                     5000 non-null   datetime64[ns]\n",
      " 3   sex                     5000 non-null   object        \n",
      " 4   job_id                  4995 non-null   object        \n",
      " 5   num_course_taken        4749 non-null   object        \n",
      " 6   current_career_path_id  4529 non-null   object        \n",
      " 7   time_spent_hrs          4529 non-null   object        \n",
      " 8   age                     5000 non-null   int64         \n",
      " 9   age_group               5000 non-null   int64         \n",
      " 10  email                   5000 non-null   object        \n",
      " 11  street                  5000 non-null   object        \n",
      " 12  city                    5000 non-null   object        \n",
      " 13  state                   5000 non-null   object        \n",
      " 14  zipcode                 5000 non-null   object        \n",
      "dtypes: datetime64[ns](1), int64(3), object(11)\n",
      "memory usage: 586.1+ KB\n"
     ]
    }
   ],
   "source": [
    "students_df.info()"
   ],
   "metadata": {
    "collapsed": false,
    "ExecuteTime": {
     "end_time": "2024-04-28T20:19:44.147349Z",
     "start_time": "2024-04-28T20:19:44.141492Z"
    }
   },
   "id": "ed177489e2c5bdea",
   "execution_count": 61
  },
  {
   "cell_type": "markdown",
   "source": [
    "ADJUSTING DATA TYPES FOR job_id, num_courses_taken, current_career_path_id and time_hours_spent"
   ],
   "metadata": {
    "collapsed": false
   },
   "id": "2dd794fbfa951423"
  },
  {
   "cell_type": "code",
   "outputs": [],
   "source": [
    "students_df['job_id'] = students_df['job_id'].astype('float')\n",
    "students_df['num_course_taken'] = students_df['num_course_taken'].astype('float')\n",
    "students_df['current_career_path_id'] = students_df['current_career_path_id'].astype('float')\n",
    "students_df['time_spent_hrs'] = students_df['time_spent_hrs'].astype('float')"
   ],
   "metadata": {
    "collapsed": false,
    "ExecuteTime": {
     "end_time": "2024-04-28T20:19:44.474903Z",
     "start_time": "2024-04-28T20:19:44.471188Z"
    }
   },
   "id": "5f907d35668476ac",
   "execution_count": 62
  },
  {
   "cell_type": "markdown",
   "source": [
    "HANDLING MISSING DATA"
   ],
   "metadata": {
    "collapsed": false
   },
   "id": "378f8a3eacaa7178"
  },
  {
   "cell_type": "code",
   "outputs": [],
   "source": [
    "course_taken_missing = students_df[students_df[['num_course_taken']].isnull().any(axis=1)]"
   ],
   "metadata": {
    "collapsed": false,
    "ExecuteTime": {
     "end_time": "2024-04-28T20:19:44.806213Z",
     "start_time": "2024-04-28T20:19:44.803007Z"
    }
   },
   "id": "2790186fd2e235b1",
   "execution_count": 63
  },
  {
   "cell_type": "code",
   "outputs": [
    {
     "data": {
      "text/plain": "<Axes: xlabel='sex'>"
     },
     "execution_count": 64,
     "metadata": {},
     "output_type": "execute_result"
    },
    {
     "data": {
      "text/plain": "<Figure size 640x480 with 1 Axes>",
      "image/png": "[encoded data removed]"
     },
     "metadata": {},
     "output_type": "display_data"
    }
   ],
   "source": [
    "students_group = (students_df.groupby('sex').count()['uuid']/len(students_df)).rename('complete')\n",
    "missing_group = (course_taken_missing.groupby('sex').count()['uuid']/len(course_taken_missing)).rename('missing')\n",
    "df = pd.concat([students_group, missing_group], axis=1)\n",
    "df.plot.bar()"
   ],
   "metadata": {
    "collapsed": false,
    "ExecuteTime": {
     "end_time": "2024-04-28T20:19:45.017781Z",
     "start_time": "2024-04-28T20:19:44.959203Z"
    }
   },
   "id": "c9793376b99277fd",
   "execution_count": 64
  },
  {
   "cell_type": "code",
   "outputs": [
    {
     "data": {
      "text/plain": "<Axes: xlabel='job_id'>"
     },
     "execution_count": 65,
     "metadata": {},
     "output_type": "execute_result"
    },
    {
     "data": {
      "text/plain": "<Figure size 640x480 with 1 Axes>",
      "image/png": "[encoded data removed]"
     },
     "metadata": {},
     "output_type": "display_data"
    }
   ],
   "source": [
    "students_group = (students_df.groupby('job_id').count()['uuid']/len(students_df)).rename('complete')\n",
    "missing_group = (course_taken_missing.groupby('job_id').count()['uuid']/len(course_taken_missing)).rename('missing')\n",
    "df = pd.concat([students_group, missing_group], axis=1)\n",
    "df.plot.bar()"
   ],
   "metadata": {
    "collapsed": false,
    "ExecuteTime": {
     "end_time": "2024-04-28T20:19:45.207450Z",
     "start_time": "2024-04-28T20:19:45.125470Z"
    }
   },
   "id": "7312b40644fafda7",
   "execution_count": 65
  },
  {
   "cell_type": "code",
   "outputs": [
    {
     "data": {
      "text/plain": "<Axes: xlabel='age_group'>"
     },
     "execution_count": 66,
     "metadata": {},
     "output_type": "execute_result"
    },
    {
     "data": {
      "text/plain": "<Figure size 640x480 with 1 Axes>",
      "image/png": "[encoded data removed]"
     },
     "metadata": {},
     "output_type": "display_data"
    }
   ],
   "source": [
    "students_group = (students_df.groupby('age_group').count()['uuid']/len(students_df)).rename('complete')\n",
    "missing_group = (course_taken_missing.groupby('age_group').count()['uuid']/len(course_taken_missing)).rename('missing')\n",
    "df = pd.concat([students_group, missing_group], axis=1)\n",
    "df.plot.bar()"
   ],
   "metadata": {
    "collapsed": false,
    "ExecuteTime": {
     "end_time": "2024-04-28T20:19:45.430820Z",
     "start_time": "2024-04-28T20:19:45.350700Z"
    }
   },
   "id": "341cb9c71ac00911",
   "execution_count": 66
  },
  {
   "cell_type": "markdown",
   "source": [
    "students_df likely MAR and does not make up a significant portion of overall data. safe to remove "
   ],
   "metadata": {
    "collapsed": false
   },
   "id": "72cdd99b4137216b"
  },
  {
   "cell_type": "code",
   "outputs": [
    {
     "name": "stdout",
     "output_type": "stream",
     "text": [
      "<class 'pandas.core.frame.DataFrame'>\n",
      "Index: 4749 entries, 0 to 4999\n",
      "Data columns (total 15 columns):\n",
      " #   Column                  Non-Null Count  Dtype         \n",
      "---  ------                  --------------  -----         \n",
      " 0   uuid                    4749 non-null   int64         \n",
      " 1   name                    4749 non-null   object        \n",
      " 2   dob                     4749 non-null   datetime64[ns]\n",
      " 3   sex                     4749 non-null   object        \n",
      " 4   job_id                  4744 non-null   float64       \n",
      " 5   num_course_taken        4749 non-null   float64       \n",
      " 6   current_career_path_id  4298 non-null   float64       \n",
      " 7   time_spent_hrs          4298 non-null   float64       \n",
      " 8   age                     4749 non-null   int64         \n",
      " 9   age_group               4749 non-null   int64         \n",
      " 10  email                   4749 non-null   object        \n",
      " 11  street                  4749 non-null   object        \n",
      " 12  city                    4749 non-null   object        \n",
      " 13  state                   4749 non-null   object        \n",
      " 14  zipcode                 4749 non-null   object        \n",
      "dtypes: datetime64[ns](1), float64(4), int64(3), object(7)\n",
      "memory usage: 593.6+ KB\n"
     ]
    }
   ],
   "source": [
    "students_df = students_df.dropna(subset=['num_course_taken'])\n",
    "students_df.info()"
   ],
   "metadata": {
    "collapsed": false,
    "ExecuteTime": {
     "end_time": "2024-04-28T20:19:45.565155Z",
     "start_time": "2024-04-28T20:19:45.558997Z"
    }
   },
   "id": "63a3ca203db6eb73",
   "execution_count": 67
  },
  {
   "cell_type": "markdown",
   "source": [
    "Moving on to job_id"
   ],
   "metadata": {
    "collapsed": false
   },
   "id": "c5f5c371f0e3626b"
  },
  {
   "cell_type": "code",
   "outputs": [
    {
     "data": {
      "text/plain": "      uuid              name        dob sex  job_id  num_course_taken  \\\n162    163        Glen Riley 2002-08-22   M     NaN               8.0   \n757    758  Mercedez Vorberg 2002-03-25   F     NaN              15.0   \n854    855           Kurt Ho 2002-05-29   M     NaN               0.0   \n1029  1030      Penny Gaines 2002-03-01   N     NaN              15.0   \n1542  1543  Frederick Reilly 2002-11-13   M     NaN               7.0   \n\n      current_career_path_id  time_spent_hrs  age  age_group  \\\n162                      3.0            5.70   22         20   \n757                      4.0            4.14   22         20   \n854                      8.0           23.72   22         20   \n1029                     4.0           16.25   22         20   \n1542                     9.0           21.32   22         20   \n\n                                email             street               city  \\\n162          glen_riley4484@hmail.com     P.O. Box 37267    Cornlea village   \n757           mercedez6297@woohoo.com  284 Cedar Seventh     Virden village   \n854                 ho6107@inlook.com     P.O. Box 27254               Olin   \n1029             gaines2897@hmail.com     138 Misty Vale   Stockton borough   \n1542  frederick_reilly6971@woohoo.com     P.O. Box 40769      Quakervillage   \n\n               state zipcode  \n162        Tennessee   19192  \n757       Washington   60489  \n854    New Hampshire   60067  \n1029   West Virginia   53630  \n1542        Maryland   96218  ",
      "text/html": "<div>\n<style scoped>\n    .dataframe tbody tr th:only-of-type {\n        vertical-align: middle;\n    }\n\n    .dataframe tbody tr th {\n        vertical-align: top;\n    }\n\n    .dataframe thead th {\n        text-align: right;\n    }\n</style>\n<table border=\"1\" class=\"dataframe\">\n  <thead>\n    <tr style=\"text-align: right;\">\n      <th></th>\n      <th>uuid</th>\n      <th>name</th>\n      <th>dob</th>\n      <th>sex</th>\n      <th>job_id</th>\n      <th>num_course_taken</th>\n      <th>current_career_path_id</th>\n      <th>time_spent_hrs</th>\n      <th>age</th>\n      <th>age_group</th>\n      <th>email</th>\n      <th>street</th>\n      <th>city</th>\n      <th>state</th>\n      <th>zipcode</th>\n    </tr>\n  </thead>\n  <tbody>\n    <tr>\n      <th>162</th>\n      <td>163</td>\n      <td>Glen Riley</td>\n      <td>2002-08-22</td>\n      <td>M</td>\n      <td>NaN</td>\n      <td>8.0</td>\n      <td>3.0</td>\n      <td>5.70</td>\n      <td>22</td>\n      <td>20</td>\n      <td>glen_riley4484@hmail.com</td>\n      <td>P.O. Box 37267</td>\n      <td>Cornlea village</td>\n      <td>Tennessee</td>\n      <td>19192</td>\n    </tr>\n    <tr>\n      <th>757</th>\n      <td>758</td>\n      <td>Mercedez Vorberg</td>\n      <td>2002-03-25</td>\n      <td>F</td>\n      <td>NaN</td>\n      <td>15.0</td>\n      <td>4.0</td>\n      <td>4.14</td>\n      <td>22</td>\n      <td>20</td>\n      <td>mercedez6297@woohoo.com</td>\n      <td>284 Cedar Seventh</td>\n      <td>Virden village</td>\n      <td>Washington</td>\n      <td>60489</td>\n    </tr>\n    <tr>\n      <th>854</th>\n      <td>855</td>\n      <td>Kurt Ho</td>\n      <td>2002-05-29</td>\n      <td>M</td>\n      <td>NaN</td>\n      <td>0.0</td>\n      <td>8.0</td>\n      <td>23.72</td>\n      <td>22</td>\n      <td>20</td>\n      <td>ho6107@inlook.com</td>\n      <td>P.O. Box 27254</td>\n      <td>Olin</td>\n      <td>New Hampshire</td>\n      <td>60067</td>\n    </tr>\n    <tr>\n      <th>1029</th>\n      <td>1030</td>\n      <td>Penny Gaines</td>\n      <td>2002-03-01</td>\n      <td>N</td>\n      <td>NaN</td>\n      <td>15.0</td>\n      <td>4.0</td>\n      <td>16.25</td>\n      <td>22</td>\n      <td>20</td>\n      <td>gaines2897@hmail.com</td>\n      <td>138 Misty Vale</td>\n      <td>Stockton borough</td>\n      <td>West Virginia</td>\n      <td>53630</td>\n    </tr>\n    <tr>\n      <th>1542</th>\n      <td>1543</td>\n      <td>Frederick Reilly</td>\n      <td>2002-11-13</td>\n      <td>M</td>\n      <td>NaN</td>\n      <td>7.0</td>\n      <td>9.0</td>\n      <td>21.32</td>\n      <td>22</td>\n      <td>20</td>\n      <td>frederick_reilly6971@woohoo.com</td>\n      <td>P.O. Box 40769</td>\n      <td>Quakervillage</td>\n      <td>Maryland</td>\n      <td>96218</td>\n    </tr>\n  </tbody>\n</table>\n</div>"
     },
     "execution_count": 68,
     "metadata": {},
     "output_type": "execute_result"
    }
   ],
   "source": [
    "job_id_missing = students_df[students_df[['job_id']].isnull().any(axis=1)]\n",
    "job_id_missing.head()"
   ],
   "metadata": {
    "collapsed": false,
    "ExecuteTime": {
     "end_time": "2024-04-28T20:19:45.872393Z",
     "start_time": "2024-04-28T20:19:45.865870Z"
    }
   },
   "id": "21414a8b8ffe6927",
   "execution_count": 68
  },
  {
   "cell_type": "markdown",
   "source": [
    "not clear patterns, likely MAR. Small amount of data, good to go to remove "
   ],
   "metadata": {
    "collapsed": false
   },
   "id": "d437bc1b15167efd"
  },
  {
   "cell_type": "code",
   "outputs": [
    {
     "name": "stdout",
     "output_type": "stream",
     "text": [
      "<class 'pandas.core.frame.DataFrame'>\n",
      "Index: 4744 entries, 0 to 4999\n",
      "Data columns (total 15 columns):\n",
      " #   Column                  Non-Null Count  Dtype         \n",
      "---  ------                  --------------  -----         \n",
      " 0   uuid                    4744 non-null   int64         \n",
      " 1   name                    4744 non-null   object        \n",
      " 2   dob                     4744 non-null   datetime64[ns]\n",
      " 3   sex                     4744 non-null   object        \n",
      " 4   job_id                  4744 non-null   float64       \n",
      " 5   num_course_taken        4744 non-null   float64       \n",
      " 6   current_career_path_id  4293 non-null   float64       \n",
      " 7   time_spent_hrs          4293 non-null   float64       \n",
      " 8   age                     4744 non-null   int64         \n",
      " 9   age_group               4744 non-null   int64         \n",
      " 10  email                   4744 non-null   object        \n",
      " 11  street                  4744 non-null   object        \n",
      " 12  city                    4744 non-null   object        \n",
      " 13  state                   4744 non-null   object        \n",
      " 14  zipcode                 4744 non-null   object        \n",
      "dtypes: datetime64[ns](1), float64(4), int64(3), object(7)\n",
      "memory usage: 593.0+ KB\n"
     ]
    }
   ],
   "source": [
    "students_df = students_df.dropna(subset=['job_id'])\n",
    "students_df.info()"
   ],
   "metadata": {
    "collapsed": false,
    "ExecuteTime": {
     "end_time": "2024-04-28T20:19:46.182592Z",
     "start_time": "2024-04-28T20:19:46.176053Z"
    }
   },
   "id": "fb96ef2d4860a7fe",
   "execution_count": 69
  },
  {
   "cell_type": "markdown",
   "source": [
    "Moving on to current_career_path_id "
   ],
   "metadata": {
    "collapsed": false
   },
   "id": "669919489fc718fa"
  },
  {
   "cell_type": "code",
   "outputs": [
    {
     "data": {
      "text/plain": "    uuid                   name        dob sex  job_id  num_course_taken  \\\n15    16          Norene Dalton 1976-04-30   F     6.0               0.0   \n19    20  Sofia van Steenbergen 1990-02-21   N     7.0              13.0   \n30    31      Christoper Warner 1989-12-28   M     2.0               5.0   \n49    50           Antony Horne 1996-05-29   M     3.0               2.0   \n54    55              Omar Bunk 1955-11-08   M     3.0              14.0   \n\n    current_career_path_id  time_spent_hrs  age  age_group  \\\n15                     NaN             NaN   48         40   \n19                     NaN             NaN   34         30   \n30                     NaN             NaN   35         30   \n49                     NaN             NaN   28         20   \n54                     NaN             NaN   69         60   \n\n                            email               street              city  \\\n15    norene_dalton9509@hmail.com    130 Wishing Essex            Branch   \n19  vansteenbergen8482@inlook.com  634 Clear Barn Dell            Beaman   \n30        warner5906@coldmail.com  556 Stony Highlands             Drain   \n49         antony577@coldmail.com       P.O. Box 78685             Lenox   \n54          omar1245@coldmail.com      445 Dale Hollow   Vermont village   \n\n              state zipcode  \n15             Ohio   13616  \n19          Georgia   33288  \n30         Illinois   01973  \n49            Texas   15516  \n54   South Carolina   28329  ",
      "text/html": "<div>\n<style scoped>\n    .dataframe tbody tr th:only-of-type {\n        vertical-align: middle;\n    }\n\n    .dataframe tbody tr th {\n        vertical-align: top;\n    }\n\n    .dataframe thead th {\n        text-align: right;\n    }\n</style>\n<table border=\"1\" class=\"dataframe\">\n  <thead>\n    <tr style=\"text-align: right;\">\n      <th></th>\n      <th>uuid</th>\n      <th>name</th>\n      <th>dob</th>\n      <th>sex</th>\n      <th>job_id</th>\n      <th>num_course_taken</th>\n      <th>current_career_path_id</th>\n      <th>time_spent_hrs</th>\n      <th>age</th>\n      <th>age_group</th>\n      <th>email</th>\n      <th>street</th>\n      <th>city</th>\n      <th>state</th>\n      <th>zipcode</th>\n    </tr>\n  </thead>\n  <tbody>\n    <tr>\n      <th>15</th>\n      <td>16</td>\n      <td>Norene Dalton</td>\n      <td>1976-04-30</td>\n      <td>F</td>\n      <td>6.0</td>\n      <td>0.0</td>\n      <td>NaN</td>\n      <td>NaN</td>\n      <td>48</td>\n      <td>40</td>\n      <td>norene_dalton9509@hmail.com</td>\n      <td>130 Wishing Essex</td>\n      <td>Branch</td>\n      <td>Ohio</td>\n      <td>13616</td>\n    </tr>\n    <tr>\n      <th>19</th>\n      <td>20</td>\n      <td>Sofia van Steenbergen</td>\n      <td>1990-02-21</td>\n      <td>N</td>\n      <td>7.0</td>\n      <td>13.0</td>\n      <td>NaN</td>\n      <td>NaN</td>\n      <td>34</td>\n      <td>30</td>\n      <td>vansteenbergen8482@inlook.com</td>\n      <td>634 Clear Barn Dell</td>\n      <td>Beaman</td>\n      <td>Georgia</td>\n      <td>33288</td>\n    </tr>\n    <tr>\n      <th>30</th>\n      <td>31</td>\n      <td>Christoper Warner</td>\n      <td>1989-12-28</td>\n      <td>M</td>\n      <td>2.0</td>\n      <td>5.0</td>\n      <td>NaN</td>\n      <td>NaN</td>\n      <td>35</td>\n      <td>30</td>\n      <td>warner5906@coldmail.com</td>\n      <td>556 Stony Highlands</td>\n      <td>Drain</td>\n      <td>Illinois</td>\n      <td>01973</td>\n    </tr>\n    <tr>\n      <th>49</th>\n      <td>50</td>\n      <td>Antony Horne</td>\n      <td>1996-05-29</td>\n      <td>M</td>\n      <td>3.0</td>\n      <td>2.0</td>\n      <td>NaN</td>\n      <td>NaN</td>\n      <td>28</td>\n      <td>20</td>\n      <td>antony577@coldmail.com</td>\n      <td>P.O. Box 78685</td>\n      <td>Lenox</td>\n      <td>Texas</td>\n      <td>15516</td>\n    </tr>\n    <tr>\n      <th>54</th>\n      <td>55</td>\n      <td>Omar Bunk</td>\n      <td>1955-11-08</td>\n      <td>M</td>\n      <td>3.0</td>\n      <td>14.0</td>\n      <td>NaN</td>\n      <td>NaN</td>\n      <td>69</td>\n      <td>60</td>\n      <td>omar1245@coldmail.com</td>\n      <td>445 Dale Hollow</td>\n      <td>Vermont village</td>\n      <td>South Carolina</td>\n      <td>28329</td>\n    </tr>\n  </tbody>\n</table>\n</div>"
     },
     "execution_count": 70,
     "metadata": {},
     "output_type": "execute_result"
    }
   ],
   "source": [
    "current_career_path_missing = students_df[students_df[['current_career_path_id']].isnull().any(axis=1)]\n",
    "current_career_path_missing.head()"
   ],
   "metadata": {
    "collapsed": false,
    "ExecuteTime": {
     "end_time": "2024-04-28T20:19:46.487336Z",
     "start_time": "2024-04-28T20:19:46.479740Z"
    }
   },
   "id": "322be589e178ce19",
   "execution_count": 70
  },
  {
   "cell_type": "code",
   "outputs": [
    {
     "name": "stdout",
     "output_type": "stream",
     "text": [
      "<class 'pandas.core.frame.DataFrame'>\n",
      "Index: 451 entries, 15 to 4974\n",
      "Data columns (total 15 columns):\n",
      " #   Column                  Non-Null Count  Dtype         \n",
      "---  ------                  --------------  -----         \n",
      " 0   uuid                    451 non-null    int64         \n",
      " 1   name                    451 non-null    object        \n",
      " 2   dob                     451 non-null    datetime64[ns]\n",
      " 3   sex                     451 non-null    object        \n",
      " 4   job_id                  451 non-null    float64       \n",
      " 5   num_course_taken        451 non-null    float64       \n",
      " 6   current_career_path_id  0 non-null      float64       \n",
      " 7   time_spent_hrs          0 non-null      float64       \n",
      " 8   age                     451 non-null    int64         \n",
      " 9   age_group               451 non-null    int64         \n",
      " 10  email                   451 non-null    object        \n",
      " 11  street                  451 non-null    object        \n",
      " 12  city                    451 non-null    object        \n",
      " 13  state                   451 non-null    object        \n",
      " 14  zipcode                 451 non-null    object        \n",
      "dtypes: datetime64[ns](1), float64(4), int64(3), object(7)\n",
      "memory usage: 56.4+ KB\n"
     ]
    }
   ],
   "source": [
    "current_career_path_missing.info()"
   ],
   "metadata": {
    "collapsed": false,
    "ExecuteTime": {
     "end_time": "2024-04-28T20:19:46.640640Z",
     "start_time": "2024-04-28T20:19:46.636739Z"
    }
   },
   "id": "8efee50254fe5291",
   "execution_count": 71
  },
  {
   "cell_type": "markdown",
   "source": [
    "time_spent_hrs is also missing when current_career_path_id is missing"
   ],
   "metadata": {
    "collapsed": false
   },
   "id": "971b9a44f1f1c412"
  },
  {
   "cell_type": "code",
   "outputs": [
    {
     "data": {
      "text/plain": "array([ 1.,  8.,  9.,  3.,  6., 10.,  5., nan,  4.,  7.,  2.])"
     },
     "execution_count": 72,
     "metadata": {},
     "output_type": "execute_result"
    }
   ],
   "source": [
    "students_df['current_career_path_id'].unique()"
   ],
   "metadata": {
    "collapsed": false,
    "ExecuteTime": {
     "end_time": "2024-04-28T20:19:46.946185Z",
     "start_time": "2024-04-28T20:19:46.943679Z"
    }
   },
   "id": "281e59b870d5cbf6",
   "execution_count": 72
  },
  {
   "cell_type": "markdown",
   "source": [
    "filling in missing values for current_career_path_id and time_hrs_spent with 0s instead of null"
   ],
   "metadata": {
    "collapsed": false
   },
   "id": "a8c562d2fcf04641"
  },
  {
   "cell_type": "code",
   "outputs": [],
   "source": [
    "students_df['current_career_path_id'] = np.where(students_df['current_career_path_id'].isnull(), 0, students_df['current_career_path_id'])\n",
    "students_df['time_spent_hrs'] = np.where(students_df['time_spent_hrs'].isnull(), 0 , students_df['time_spent_hrs'])"
   ],
   "metadata": {
    "collapsed": false,
    "ExecuteTime": {
     "end_time": "2024-04-28T20:19:47.277491Z",
     "start_time": "2024-04-28T20:19:47.275103Z"
    }
   },
   "id": "20a5eb4de83804e4",
   "execution_count": 73
  },
  {
   "cell_type": "markdown",
   "source": [
    "adding career path 0 for the missing values in students_df "
   ],
   "metadata": {
    "collapsed": false
   },
   "id": "a07c4242104dfe6a"
  },
  {
   "cell_type": "code",
   "outputs": [],
   "source": [
    "no_path = {'career_path_id': 0, 'career_path_name': 'no path', 'hours_to_complete': 0}\n",
    "courses_df.loc[len(courses_df)] = no_path"
   ],
   "metadata": {
    "collapsed": false,
    "ExecuteTime": {
     "end_time": "2024-04-28T20:19:47.626650Z",
     "start_time": "2024-04-28T20:19:47.623526Z"
    }
   },
   "id": "3dc078cb605ebd5",
   "execution_count": 74
  },
  {
   "cell_type": "code",
   "outputs": [
    {
     "name": "stdout",
     "output_type": "stream",
     "text": [
      "<class 'pandas.core.frame.DataFrame'>\n",
      "Index: 4744 entries, 0 to 4999\n",
      "Data columns (total 15 columns):\n",
      " #   Column                  Non-Null Count  Dtype         \n",
      "---  ------                  --------------  -----         \n",
      " 0   uuid                    4744 non-null   int64         \n",
      " 1   name                    4744 non-null   object        \n",
      " 2   dob                     4744 non-null   datetime64[ns]\n",
      " 3   sex                     4744 non-null   object        \n",
      " 4   job_id                  4744 non-null   float64       \n",
      " 5   num_course_taken        4744 non-null   float64       \n",
      " 6   current_career_path_id  4744 non-null   float64       \n",
      " 7   time_spent_hrs          4744 non-null   float64       \n",
      " 8   age                     4744 non-null   int64         \n",
      " 9   age_group               4744 non-null   int64         \n",
      " 10  email                   4744 non-null   object        \n",
      " 11  street                  4744 non-null   object        \n",
      " 12  city                    4744 non-null   object        \n",
      " 13  state                   4744 non-null   object        \n",
      " 14  zipcode                 4744 non-null   object        \n",
      "dtypes: datetime64[ns](1), float64(4), int64(3), object(7)\n",
      "memory usage: 593.0+ KB\n"
     ]
    }
   ],
   "source": [
    "students_df.info()"
   ],
   "metadata": {
    "collapsed": false,
    "ExecuteTime": {
     "end_time": "2024-04-28T20:19:47.806973Z",
     "start_time": "2024-04-28T20:19:47.801834Z"
    }
   },
   "id": "9659712a67e889c",
   "execution_count": 75
  },
  {
   "cell_type": "markdown",
   "source": [
    "MERGING CLEANSED TABLES "
   ],
   "metadata": {
    "collapsed": false
   },
   "id": "50a9b76e1a6673cf"
  },
  {
   "cell_type": "code",
   "outputs": [
    {
     "name": "stdout",
     "output_type": "stream",
     "text": [
      "4744\n",
      "4744\n"
     ]
    }
   ],
   "source": [
    "final_df = students_df.merge(courses_df, left_on= 'current_career_path_id', right_on='career_path_id', how='left')\n",
    "print(len(final_df))\n",
    "final_df = final_df.merge(jobs_df, on='job_id', how='left')\n",
    "print(len(final_df))"
   ],
   "metadata": {
    "collapsed": false,
    "ExecuteTime": {
     "end_time": "2024-04-28T20:19:48.118544Z",
     "start_time": "2024-04-28T20:19:48.112128Z"
    }
   },
   "id": "bf36b8c77c2ff5dc",
   "execution_count": 76
  },
  {
   "cell_type": "code",
   "outputs": [
    {
     "name": "stdout",
     "output_type": "stream",
     "text": [
      "<class 'pandas.core.frame.DataFrame'>\n",
      "RangeIndex: 4744 entries, 0 to 4743\n",
      "Data columns (total 20 columns):\n",
      " #   Column                  Non-Null Count  Dtype         \n",
      "---  ------                  --------------  -----         \n",
      " 0   uuid                    4744 non-null   int64         \n",
      " 1   name                    4744 non-null   object        \n",
      " 2   dob                     4744 non-null   datetime64[ns]\n",
      " 3   sex                     4744 non-null   object        \n",
      " 4   job_id                  4744 non-null   float64       \n",
      " 5   num_course_taken        4744 non-null   float64       \n",
      " 6   current_career_path_id  4744 non-null   float64       \n",
      " 7   time_spent_hrs          4744 non-null   float64       \n",
      " 8   age                     4744 non-null   int64         \n",
      " 9   age_group               4744 non-null   int64         \n",
      " 10  email                   4744 non-null   object        \n",
      " 11  street                  4744 non-null   object        \n",
      " 12  city                    4744 non-null   object        \n",
      " 13  state                   4744 non-null   object        \n",
      " 14  zipcode                 4744 non-null   object        \n",
      " 15  career_path_id          4744 non-null   int64         \n",
      " 16  career_path_name        4744 non-null   object        \n",
      " 17  hours_to_complete       4744 non-null   int64         \n",
      " 18  job_category            4744 non-null   object        \n",
      " 19  avg_salary              4744 non-null   int64         \n",
      "dtypes: datetime64[ns](1), float64(4), int64(6), object(9)\n",
      "memory usage: 741.4+ KB\n"
     ]
    }
   ],
   "source": [
    "final_df.info()"
   ],
   "metadata": {
    "collapsed": false,
    "ExecuteTime": {
     "end_time": "2024-04-28T20:19:48.280409Z",
     "start_time": "2024-04-28T20:19:48.274511Z"
    }
   },
   "id": "ccc04164f6f7b877",
   "execution_count": 77
  },
  {
   "cell_type": "code",
   "outputs": [
    {
     "name": "stdout",
     "output_type": "stream",
     "text": [
      "Empty DataFrame\n",
      "Columns: [uuid, name, dob, sex, job_id, num_course_taken, current_career_path_id, time_spent_hrs, age, age_group, email, street, city, state, zipcode, career_path_id, career_path_name, hours_to_complete, job_category, avg_salary]\n",
      "Index: []\n"
     ]
    }
   ],
   "source": [
    "df_missing = final_df[final_df.isnull().any(axis=1)]\n",
    "print(str(df_missing))"
   ],
   "metadata": {
    "collapsed": false,
    "ExecuteTime": {
     "end_time": "2024-04-28T20:19:48.437Z",
     "start_time": "2024-04-28T20:19:48.432753Z"
    }
   },
   "id": "50ac47d80808961f",
   "execution_count": 78
  },
  {
   "cell_type": "code",
   "outputs": [
    {
     "ename": "OperationalError",
     "evalue": "unable to open database file",
     "output_type": "error",
     "traceback": [
      "\u001B[0;31m---------------------------------------------------------------------------\u001B[0m",
      "\u001B[0;31mOperationalError\u001B[0m                          Traceback (most recent call last)",
      "Cell \u001B[0;32mIn[79], line 1\u001B[0m\n\u001B[0;32m----> 1\u001B[0m sqlite_conn \u001B[38;5;241m=\u001B[39m \u001B[43msqlite3\u001B[49m\u001B[38;5;241;43m.\u001B[39;49m\u001B[43mconnect\u001B[49m\u001B[43m(\u001B[49m\u001B[38;5;124;43m'\u001B[39;49m\u001B[38;5;124;43m./prod/cademycode_clean.db\u001B[39;49m\u001B[38;5;124;43m'\u001B[39;49m\u001B[43m)\u001B[49m\n",
      "\u001B[0;31mOperationalError\u001B[0m: unable to open database file"
     ]
    }
   ],
   "source": [
    "sqlite_conn = sqlite3.connect('./prod/cademycode_clean.db')"
   ],
   "metadata": {
    "collapsed": false,
    "ExecuteTime": {
     "end_time": "2024-04-28T20:19:48.649777Z",
     "start_time": "2024-04-28T20:19:48.598982Z"
    }
   },
   "id": "dfe9fd04b2da0a41",
   "execution_count": 79
  },
  {
   "cell_type": "code",
   "outputs": [
    {
     "ename": "NameError",
     "evalue": "name 'sqlite_conn' is not defined",
     "output_type": "error",
     "traceback": [
      "\u001B[0;31m---------------------------------------------------------------------------\u001B[0m",
      "\u001B[0;31mNameError\u001B[0m                                 Traceback (most recent call last)",
      "Cell \u001B[0;32mIn[80], line 1\u001B[0m\n\u001B[0;32m----> 1\u001B[0m final_df\u001B[38;5;241m.\u001B[39mto_sql(\u001B[38;5;124m'\u001B[39m\u001B[38;5;124mstudent_info\u001B[39m\u001B[38;5;124m'\u001B[39m, \u001B[43msqlite_conn\u001B[49m, if_exists\u001B[38;5;241m=\u001B[39m\u001B[38;5;124m'\u001B[39m\u001B[38;5;124mreplace\u001B[39m\u001B[38;5;124m'\u001B[39m, index\u001B[38;5;241m=\u001B[39m\u001B[38;5;28;01mFalse\u001B[39;00m)\n",
      "\u001B[0;31mNameError\u001B[0m: name 'sqlite_conn' is not defined"
     ]
    }
   ],
   "source": [
    "final_df.to_sql('student_info', sqlite_conn, if_exists='replace', index=False)"
   ],
   "metadata": {
    "collapsed": false,
    "ExecuteTime": {
     "end_time": "2024-04-28T20:19:48.799583Z",
     "start_time": "2024-04-28T20:19:48.791356Z"
    }
   },
   "id": "3bb9a461e31b1564",
   "execution_count": 80
  },
  {
   "cell_type": "code",
   "outputs": [
    {
     "ename": "NameError",
     "evalue": "name 'sqlite_conn' is not defined",
     "output_type": "error",
     "traceback": [
      "\u001B[0;31m---------------------------------------------------------------------------\u001B[0m",
      "\u001B[0;31mNameError\u001B[0m                                 Traceback (most recent call last)",
      "Cell \u001B[0;32mIn[81], line 1\u001B[0m\n\u001B[0;32m----> 1\u001B[0m cleansed_db_df \u001B[38;5;241m=\u001B[39m pd\u001B[38;5;241m.\u001B[39mread_sql_query(\u001B[38;5;124m\"\u001B[39m\u001B[38;5;124mSELECT * FROM student_info\u001B[39m\u001B[38;5;124m\"\u001B[39m, \u001B[43msqlite_conn\u001B[49m)\n",
      "\u001B[0;31mNameError\u001B[0m: name 'sqlite_conn' is not defined"
     ]
    }
   ],
   "source": [
    "cleansed_db_df = pd.read_sql_query(\"SELECT * FROM student_info\", sqlite_conn)"
   ],
   "metadata": {
    "collapsed": false,
    "ExecuteTime": {
     "end_time": "2024-04-28T20:19:48.956600Z",
     "start_time": "2024-04-28T20:19:48.948191Z"
    }
   },
   "id": "e3d2da742200bb87",
   "execution_count": 81
  },
  {
   "cell_type": "code",
   "outputs": [
    {
     "ename": "NameError",
     "evalue": "name 'cleansed_db_df' is not defined",
     "output_type": "error",
     "traceback": [
      "\u001B[0;31m---------------------------------------------------------------------------\u001B[0m",
      "\u001B[0;31mNameError\u001B[0m                                 Traceback (most recent call last)",
      "Cell \u001B[0;32mIn[82], line 1\u001B[0m\n\u001B[0;32m----> 1\u001B[0m \u001B[43mcleansed_db_df\u001B[49m\u001B[38;5;241m.\u001B[39minfo()\n",
      "\u001B[0;31mNameError\u001B[0m: name 'cleansed_db_df' is not defined"
     ]
    }
   ],
   "source": [
    "cleansed_db_df.info()"
   ],
   "metadata": {
    "collapsed": false,
    "ExecuteTime": {
     "end_time": "2024-04-28T20:19:49.105841Z",
     "start_time": "2024-04-28T20:19:49.097898Z"
    }
   },
   "id": "482d9e5fcf784660",
   "execution_count": 82
  },
  {
   "cell_type": "code",
   "outputs": [
    {
     "ename": "NameError",
     "evalue": "name 'sqlite_conn' is not defined",
     "output_type": "error",
     "traceback": [
      "\u001B[0;31m---------------------------------------------------------------------------\u001B[0m",
      "\u001B[0;31mNameError\u001B[0m                                 Traceback (most recent call last)",
      "Cell \u001B[0;32mIn[83], line 1\u001B[0m\n\u001B[0;32m----> 1\u001B[0m \u001B[43msqlite_conn\u001B[49m\u001B[38;5;241m.\u001B[39mclose()\n",
      "\u001B[0;31mNameError\u001B[0m: name 'sqlite_conn' is not defined"
     ]
    }
   ],
   "source": [
    "sqlite_conn.close()"
   ],
   "metadata": {
    "collapsed": false,
    "ExecuteTime": {
     "end_time": "2024-04-28T20:19:49.462274Z",
     "start_time": "2024-04-28T20:19:49.452025Z"
    }
   },
   "id": "6145e28f2236b318",
   "execution_count": 83
  },
  {
   "cell_type": "code",
   "outputs": [],
   "source": [
    "cleansed_db_df.to_csv('student_info_cleansed.csv', index=False)"
   ],
   "metadata": {
    "collapsed": false,
    "ExecuteTime": {
     "end_time": "2024-04-18T01:39:42.667678Z",
     "start_time": "2024-04-18T01:39:42.631777Z"
    }
   },
   "id": "f67f0001bcb1d5e5",
   "execution_count": 164
  },
  {
   "cell_type": "code",
   "outputs": [],
   "source": [],
   "metadata": {
    "collapsed": false
   },
   "id": "cabceff5da3237b0"
  }
 ],
 "metadata": {
  "kernelspec": {
   "display_name": "Python 3",
   "language": "python",
   "name": "python3"
  },
  "language_info": {
   "codemirror_mode": {
    "name": "ipython",
    "version": 2
   },
   "file_extension": ".py",
   "mimetype": "text/x-python",
   "name": "python",
   "nbconvert_exporter": "python",
   "pygments_lexer": "ipython2",
   "version": "2.7.6"
  }
 },
 "nbformat": 4,
 "nbformat_minor": 5
}
